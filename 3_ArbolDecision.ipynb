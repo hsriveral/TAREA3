!pip install -q scikit-plot

import pandas as pd
import numpy as np
import matplotlib.pyplot as plt
import seaborn as sns

from sklearn.model_selection import train_test_split
from sklearn.tree import DecisionTreeClassifier
from sklearn.metrics import classification_report, confusion_matrix
from sklearn.tree import plot_tree
from sklearn.model_selection import cross_val_score

from sklearn.model_selection import GridSearchCV

# Cargar dataset
df = pd.read_csv('winequality-red.csv')

# Visualizar filas iniciales
df.head()

import matplotlib.pyplot as plt
import seaborn as sns

# Configuración de gráficos y estilo
plt.style.use('ggplot')  # Aplicar estilo 'ggplot' a los gráficos

# Ajustes generales de tamaño y tipografía
plt.rcParams.update({
    'figure.figsize': [6, 4],         # Tamaño de las figuras en pulgadas
    'font.size': 12,                  # Tamaño de la fuente
    'font.family': 'Palatino Linotype' # Tipo de letra
})

# Configurar paleta de colores para Seaborn
sns.set_palette('viridis')  # Paleta de colores 'viridis'

# Visualizar estadísticas descriptivas
df.info()
df.describe()

# Histograma de la variable 'quality' con estilo moderno
sns.histplot(df['quality'], kde=True, color='blue', bins=5, 
             alpha=0.7, linewidth=1.5, edgecolor='black')

# Configuración del gráfico
plt.title('Distribución de la Calidad del Vino', fontsize=14, fontweight='bold')
plt.xlabel('Calidad', fontsize=12)
plt.ylabel('Frecuencia', fontsize=12)

# Agregar una leyenda clara para la curva de densidad
plt.legend(['Densidad KDE de Calidad'], loc='upper right')

# Mostrar gráfico
plt.show()

# Diagrama de densidad para la variable 'density'
sns.kdeplot(df['density'], fill=True, color='blue', alpha=0.7, linewidth=2)

# Configuración del gráfico
plt.title('Distribución de la Densidad del Vino', fontsize=14, fontweight='bold')
plt.xlabel('Densidad', fontsize=12)
plt.ylabel('Frecuencia de Densidad', fontsize=12)

# Leyenda descriptiva
plt.legend(['Densidad del Vino'], loc='upper right')

# Mostrar gráfico
plt.show()

# Gráfico de caja para la variable 'alcohol'
sns.boxplot(x=df['alcohol'], color='blue')

# Configuración del gráfico
plt.title('Distribución del Alcohol en el Vino', fontsize=14, fontweight='bold')
plt.xlabel('Grado de Alcohol (%)', fontsize=12)
plt.ylabel('Concentración de Alcohol', fontsize=12)

# Leyenda opcional (si es necesaria)
plt.legend(['Alcohol'], loc='upper right')

# Mostrar gráfico
plt.show()

# Grafico de caja de la variable pH y calidad
sns.boxplot(x = df['quality'], y = df['pH'], color = 'blue')
# Título
plt.title('Distribución del pH del Vino por Calidad', fontweight = 'bold')
# Etiqueta eje x
plt.xlabel('Calidad')
# Etiqueta eje y
plt.ylabel('pH')
# Leyenda
plt.legend(['pH', 'Quality'])
# Mostar gráfico
plt.show()

import seaborn as sns
import matplotlib.pyplot as plt

# Ajustar el estilo
sns.set(style="whitegrid")

# Crear el boxplot
plt.figure(figsize=(10, 6))  # Tamaño del gráfico
sns.boxplot(x='quality', y='fixed acidity', data=df, color='blue')

# Título
plt.title('Distribución de la Acidez Fija del Vino por Calidad', fontweight='bold', fontsize=16)

# Etiquetas de los ejes
plt.xlabel('Calidad', fontsize=14)
plt.ylabel('Acidez Fija', fontsize=14)

# Añadir cuadrícula
plt.grid(axis='y', linestyle='--', alpha=0.7)

# Mostrar el gráfico
plt.tight_layout()  # Ajustar el diseño
plt.show()

import seaborn as sns
import matplotlib.pyplot as plt

# Ajustar el estilo
sns.set(style="whitegrid")

# Crear el gráfico de barras
plt.figure(figsize=(10, 6))  # Tamaño del gráfico
bar_plot = sns.countplot(x='quality', data=df, color='blue', edgecolor='black', linewidth=1.5)

# Título
plt.title('Distribución de la Calidad del Vino', fontweight='bold', fontsize=16)

# Etiquetas de los ejes
plt.xlabel('Calidad', fontsize=14)
plt.ylabel('Frecuencia', fontsize=14)

# Añadir valores encima de las barras
for p in bar_plot.patches:
    bar_plot.annotate(f'{int(p.get_height())}', 
                      (p.get_x() + p.get_width() / 2., p.get_height()), 
                      ha='center', va='bottom', fontsize=12)

# Ajustar el diseño
plt.tight_layout() 
plt.show()
import seaborn as sns
import matplotlib.pyplot as plt
import numpy as np

# Ajustar el estilo
sns.set(style="whitegrid")

# Crear el gráfico de dispersión
plt.figure(figsize=(12, 8))  # Tamaño del gráfico

# Graficar los puntos de dispersión
scatter = sns.scatterplot(x=df['alcohol'], y=df['quality'], 
                          hue=df['quality'], palette='viridis', 
                          alpha=0.8, edgecolor='black', 
                          linewidth=0.5, s=100)

# Ajustar la línea de tendencia
sns.regplot(x='alcohol', y='quality', data=df, scatter=False, 
            color='red', line_kws={"linewidth": 2, "linestyle": "--"}, ci=None)

# Título
plt.title('Dispersión de la Calidad del Vino y el Grado de Alcohol', fontweight='bold', fontsize=16)

# Etiquetas de los ejes
plt.xlabel('Grado de Alcohol', fontsize=14)
plt.ylabel('Calidad', fontsize=14)

# Leyenda
plt.legend(title='Calidad', loc='upper right', frameon=True)

# Ajustar el diseño
plt.tight_layout()

# Mostrar gráfico
plt.show()

# Ajustar el estilo
sns.set(style="whitegrid")

# Crear el gráfico de densidad
plt.figure(figsize=(10, 6))  # Tamaño del gráfico
sns.kdeplot(data=df['alcohol'], fill=True, alpha=0.8, linewidth=2, color='blue')

# Añadir línea vertical para la media
mean_value = df['alcohol'].mean()
plt.axvline(mean_value, color='red', linestyle='--', linewidth=1.5, label='Media')

# Título
plt.title('Distribución del Alcohol', fontweight='bold', fontsize=16)

# Etiquetas de los ejes
plt.xlabel('Grado de Alcohol', fontsize=14)
plt.ylabel('Densidad', fontsize=14)

# Leyenda con fondo de contraste (opcional)
plt.legend(loc='upper right', frameon=True, facecolor='white', edgecolor='black')

# Ajustar el diseño
plt.tight_layout()

# Mostrar gráfico
plt.show()

# Ajustar el estilo
sns.set(style="whitegrid")

# Crear el gráfico de densidad
plt.figure(figsize=(10, 6))  # Tamaño del gráfico
sns.kdeplot(data=df['pH'], fill=True, alpha=0.8, linewidth=2, color='blue')

# Añadir línea vertical para la media
mean_value = df['pH'].mean()
plt.axvline(mean_value, color='red', linestyle='--', linewidth=1.5, label='Media')

# Título
plt.title('Distribución del pH', fontweight='bold', fontsize=16)

# Etiquetas de los ejes
plt.xlabel('pH', fontsize=14)
plt.ylabel('Densidad', fontsize=14)

# Leyenda (opcional)
plt.legend(loc='upper right', frameon=True, facecolor='white', edgecolor='black')

# Ajustar el diseño
plt.tight_layout()

# Mostrar gráfico
plt.show()

# Ajustar el estilo
sns.set(style="whitegrid")

# Crear el gráfico de densidad
plt.figure(figsize=(10, 6))  # Tamaño del gráfico

# Graficar la densidad
sns.kdeplot(data=df['fixed acidity'], fill=True, alpha=0.9, linewidth=2, color='blue')

# Añadir línea vertical para la media
mean_value = df['fixed acidity'].mean()
plt.axvline(mean_value, color='red', linestyle='--', linewidth=1.5, label='Media')

# Título
plt.title('Distribución de la Acidez Fija', fontweight='bold', fontsize=16)

# Etiquetas de los ejes
plt.xlabel('Acidez Fija', fontsize=14)
plt.ylabel('Densidad', fontsize=14)

# Leyenda (opcional)
plt.legend(loc='upper right', frameon=True, facecolor='white', edgecolor='black')

# Ajustar el diseño
plt.tight_layout()

# Mostrar gráfico
plt.show()


import seaborn as sns
import matplotlib.pyplot as plt

# Ajustar el estilo
sns.set(style="whitegrid")

# Crear una cuadrícula de gráficos de densidad
fig, axs = plt.subplots(2, 2, figsize=(12, 12))  # Tamaño del gráfico

# Gráfico de densidad de la variable fixed acidity
sns.kdeplot(data=df['fixed acidity'], fill=True, alpha=0.9, linewidth=2, color='blue', ax=axs[0, 0])
mean_fixed_acidity = df['fixed acidity'].mean()
axs[0, 0].axvline(mean_fixed_acidity, color='red', linestyle='--', linewidth=1.5, label='Media')
axs[0, 0].set_title('Distribución de la Acidez Fija', fontweight='bold', fontsize=14)
axs[0, 0].set_xlabel('Acidez Fija', fontsize=12)
axs[0, 0].set_ylabel('Densidad', fontsize=12)

# Gráfico de densidad de la variable residual sugar
sns.kdeplot(data=df['residual sugar'], fill=True, alpha=0.9, linewidth=2, color='green', ax=axs[0, 1])
mean_residual_sugar = df['residual sugar'].mean()
axs[0, 1].axvline(mean_residual_sugar, color='red', linestyle='--', linewidth=1.5, label='Media')
axs[0, 1].set_title('Distribución del Azúcar Residual', fontweight='bold', fontsize=14)
axs[0, 1].set_xlabel('Azúcar Residual', fontsize=12)
axs[0, 1].set_ylabel('Densidad', fontsize=12)

# Gráfico de densidad de la variable citric acid
sns.kdeplot(data=df['citric acid'], fill=True, alpha=1.0, linewidth=2, color='orange', ax=axs[1, 0])
mean_citric_acid = df['citric acid'].mean()
axs[1, 0].axvline(mean_citric_acid, color='red', linestyle='--', linewidth=1.5, label='Media')
axs[1, 0].set_title('Distribución del Ácido Cítrico', fontweight='bold', fontsize=14)
axs[1, 0].set_xlabel('Ácido Cítrico', fontsize=12)
axs[1, 0].set_ylabel('Densidad', fontsize=12)

# Gráfico de densidad de la variable chlorides  
sns.kdeplot(data=df['chlorides'], fill=True, alpha=1.0, linewidth=2, color='purple', ax=axs[1, 1])
mean_chlorides = df['chlorides'].mean()
axs[1, 1].axvline(mean_chlorides, color='red', linestyle='--', linewidth=1.5, label='Media')
axs[1, 1].set_title('Distribución de los Cloruros', fontweight='bold', fontsize=14)
axs[1, 1].set_xlabel('Cloruros', fontsize=12)
axs[1, 1].set_ylabel('Densidad', fontsize=12)

# Ajustar espacio entre gráficos
plt.tight_layout()

# Mostrar gráfico
plt.show()

# Ajustar el estilo
sns.set(style="whitegrid")

# Crear el gráfico de densidad
plt.figure(figsize=(10, 6))  # Tamaño del gráfico
sns.kdeplot(data=df['citric acid'], fill=True, alpha=1.0, linewidth=2, color='blue')

# Añadir línea vertical para la media
mean_value = df['citric acid'].mean()
plt.axvline(mean_value, color='red', linestyle='--', linewidth=1.5, label='Media')

# Título
plt.title('Distribución del Ácido Cítrico', fontweight='bold', fontsize=16)

# Etiquetas de los ejes
plt.xlabel('Ácido Cítrico', fontsize=14)
plt.ylabel('Densidad', fontsize=14)

# Leyenda (opcional)
plt.legend(loc='upper right', frameon=True, facecolor='white', edgecolor='black')

# Ajustar el diseño
plt.tight_layout()

# Mostrar gráfico
plt.show()

import matplotlib.pyplot as plt

# Ajustar el estilo
sns.set(style="whitegrid")

# Crear el gráfico de densidad
plt.figure(figsize=(10, 6))  # Tamaño del gráfico
sns.kdeplot(data=df['chlorides'], fill=True, alpha=0.7, linewidth=2, color='black')

# Añadir líneas verticales para la media y la mediana
mean_value = df['chlorides'].mean()
median_value = df['chlorides'].median()
plt.axvline(mean_value, color='red', linestyle='--', linewidth=1.5, label='Media')
plt.axvline(median_value, color='blue', linestyle=':', linewidth=1.5, label='Mediana')

# Título
plt.title('Distribución de los Cloruros', fontweight='bold', fontsize=16)

# Etiquetas de los ejes
plt.xlabel('Cloruros', fontsize=14)
plt.ylabel('Densidad', fontsize=14)

# Leyenda con fondo de contraste
plt.legend(loc='upper right', frameon=True, facecolor='white', edgecolor='black')

# Ajustar el diseño
plt.tight_layout()

# Mostrar gráfico
plt.show()

# Ajustar el estilo
sns.set(style="whitegrid")

# Crear el gráfico de densidad
plt.figure(figsize=(10, 6))  # Tamaño del gráfico
sns.kdeplot(data=df['free sulfur dioxide'], fill=True, alpha=1.0, linewidth=2, color='black')

# Añadir línea vertical para la media
mean_value = df['free sulfur dioxide'].mean()
plt.axvline(mean_value, color='red', linestyle='--', linewidth=1.5, label='Media')

# Título
plt.title('Distribución del Dióxido de Azufre Libre', fontweight='bold', fontsize=16)

# Etiquetas de los ejes
plt.xlabel('Dióxido de Azufre Libre', fontsize=14)
plt.ylabel('Densidad', fontsize=14)

# Leyenda (opcional)
plt.legend(loc='upper right', frameon=True, facecolor='white', edgecolor='black')

# Ajustar el diseño
plt.tight_layout()

# Mostrar gráfico
plt.show()

import seaborn as sns
import matplotlib.pyplot as plt

# Ajustar el estilo
sns.set(style="whitegrid")

# Crear la figura y los ejes
fig, axs = plt.subplots(2, 2, figsize=(12, 10))  # Tamaño del gráfico

# Gráfico de densidad de la variable fixed acidity
sns.kdeplot(data=df['fixed acidity'], fill=True, alpha=0.7, linewidth=2, color='blue', ax=axs[0, 0])
axs[0, 0].set_title('Distribución de la Acidez Fija', fontweight='bold', fontsize=14)
axs[0, 0].set_xlabel('Acidez Fija', fontsize=12)
axs[0, 0].set_ylabel('Densidad', fontsize=12)
axs[0, 0].legend(['Acidez Fija'], loc='upper right', frameon=True, facecolor='white', edgecolor='black')

# Gráfico de densidad de la variable residual sugar
sns.kdeplot(data=df['residual sugar'], fill=True, alpha=0.7, linewidth=2, color='blue', ax=axs[0, 1])
axs[0, 1].set_title('Distribución del Azúcar Residual', fontweight='bold', fontsize=14)
axs[0, 1].set_xlabel('Azúcar Residual', fontsize=12)
axs[0, 1].set_ylabel('Densidad', fontsize=12)
axs[0, 1].legend(['Azúcar Residual'], loc='upper right', frameon=True, facecolor='white', edgecolor='black')

# Gráfico de densidad de la variable citric acid
sns.kdeplot(data=df['citric acid'], fill=True, alpha=0.7, linewidth=2, color='blue', ax=axs[1, 0])
axs[1, 0].set_title('Distribución del Ácido Cítrico', fontweight='bold', fontsize=14)
axs[1, 0].set_xlabel('Ácido Cítrico', fontsize=12)
axs[1, 0].set_ylabel('Densidad', fontsize=12)
axs[1, 0].legend(['Ácido Cítrico'], loc='upper right', frameon=True, facecolor='white', edgecolor='black')

# Gráfico de densidad de la variable chlorides  
sns.kdeplot(data=df['chlorides'], fill=True, alpha=0.7, linewidth=2, color='black', ax=axs[1, 1])
axs[1, 1].set_title('Distribución de los Cloruros', fontweight='bold', fontsize=14)
axs[1, 1].set_xlabel('Cloruros', fontsize=12)
axs[1, 1].set_ylabel('Densidad', fontsize=12)
axs[1, 1].legend(['Cloruros'], loc='upper right', frameon=True, facecolor='white', edgecolor='black')

# Ajustar el espacio entre gráficos
plt.tight_layout()

# Mostrar gráfico
plt.show()

# 4 Graficos de violin en una cuadrícula 2x2
fig, axs = plt.subplots(2, 2, figsize = (10, 10))
# Grafico de violin de la variable fixed acidity
sns.violinplot(data = df[['fixed acidity']], ax = axs[0, 0])
# Título
axs[0, 0].set_title('Distribución de la Acidez Fija', fontweight = 'bold')
# Etiqueta eje x
axs[0, 0].set_xlabel('Acidez Fija')
# Etiqueta eje y
axs[0, 0].set_ylabel('Densidad')
# Leyenda con fondo de contraste
axs[0, 0].legend(['Fixed Acidity'], loc = 'upper right', frameon = True, facecolor = 'white', edgecolor = 'black')

# Grafico de violin de la variable residual sugar
sns.violinplot(data = df[['residual sugar']], ax = axs[0, 1])
# Título
axs[0, 1].set_title('Distribución del Azúcar Residual', fontweight = 'bold')
# Etiqueta eje x
axs[0, 1].set_xlabel('Azúcar Residual')
# Etiqueta eje y
axs[0, 1].set_ylabel('Densidad')
# Leyenda con fondo de contraste
axs[0, 1].legend(['Residual Sugar'], loc = 'upper right', frameon = True, facecolor = 'white', edgecolor = 'black')

# sulphates
sns.violinplot(data = df[['sulphates']], ax = axs[1, 0])
# Título
axs[1, 0].set_title('Distribución de los Sulfatos', fontweight = 'bold')
# Etiqueta eje x
axs[1, 0].set_xlabel('Sulfatos')
# Etiqueta eje y
axs[1, 0].set_ylabel('Densidad')
# Leyenda con fondo de contraste
axs[1, 0].legend(['Sulphates'], loc = 'upper right', frameon = True, facecolor = 'white', edgecolor = 'black')

# Grafico de violin de la variable alcohol
sns.violinplot(data = df[['alcohol']], ax = axs[1, 1])
# Título
axs[1, 1].set_title('Distribución del Alcohol', fontweight = 'bold')
# Etiqueta eje x
axs[1, 1].set_xlabel('Alcohol')
# Etiqueta eje y
axs[1, 1].set_ylabel('Densidad')
# Leyenda con fondo de contraste
axs[1, 1].legend(['Alcohol'], loc = 'upper right', frameon = True, facecolor = 'white', edgecolor = 'black')

# Ajustar espacio entre gráficos
plt.tight_layout()
# Mostar gráfico
plt.show()
# Ajustar el estilo
sns.set(style="whitegrid")

# Crear figura para el gráfico
plt.figure(figsize=(12, 10))  # Tamaño del gráfico

# Calcular la matriz de correlación
corr = df.corr()

# Crear el mapa de calor
sns.heatmap(corr, annot=True, cmap='coolwarm', fmt='.2f', linewidths=0.5, linecolor='black', cbar_kws={'shrink': .8}, annot_kws={"size": 10})

# Título
plt.title('Mapa de Calor de la Correlación', fontweight='bold', fontsize=16)

# Ajustar los ejes
plt.xticks(rotation=45, ha='right', fontsize=12)
plt.yticks(rotation=0, fontsize=12)

# Ajustar el diseño
plt.tight_layout()

# Mostrar gráfico
plt.show()

